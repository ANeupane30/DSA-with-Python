{
 "cells": [
  {
   "cell_type": "markdown",
   "id": "9424d21f",
   "metadata": {},
   "source": [
    "# Nested Dictionaries\n",
    "\n",
    "It is sometimes useful to store a set of dictionaries in alist this is called nesting."
   ]
  },
  {
   "cell_type": "markdown",
   "id": "04f051e6",
   "metadata": {},
   "source": [
    "### Storing Dictionaries in a list"
   ]
  },
  {
   "cell_type": "code",
   "execution_count": 1,
   "id": "f0a36d2e",
   "metadata": {},
   "outputs": [
    {
     "name": "stdout",
     "output_type": "stream",
     "text": [
      "FirstName: Aseem\n",
      "LastName: Neupane\n",
      "Username: aneupane\n",
      "\n",
      "\n",
      "FirstName: Avash\n",
      "LastName: Aryal\n",
      "Username: aaryal\n",
      "\n",
      "\n",
      "[{'FirstName': 'Aseem', 'LastName': 'Neupane', 'Username': 'aneupane'}, {'FirstName': 'Avash', 'LastName': 'Aryal', 'Username': 'aaryal'}]\n"
     ]
    }
   ],
   "source": [
    "users = []\n",
    "\n",
    "# Making a new user\n",
    "new_user = {\n",
    "    'FirstName': 'Aseem',\n",
    "    'LastName': 'Neupane',\n",
    "    'Username': 'aneupane'\n",
    "}\n",
    "users.append(new_user)\n",
    "\n",
    "# Making second User\n",
    "new_user = {\n",
    "    'FirstName': 'Avash',\n",
    "    'LastName': 'Aryal',\n",
    "    'Username': 'aaryal'\n",
    "}\n",
    "users.append(new_user)\n",
    "\n",
    "#showing all information about each user\n",
    "for user_dict in users:\n",
    "    for k, v in user_dict.items():\n",
    "        print(k + ': ' + v)\n",
    "    print(\"\\n\")\n",
    "\n",
    "print(users)"
   ]
  },
  {
   "cell_type": "markdown",
   "id": "cbd90092",
   "metadata": {},
   "source": [
    "### List in a dictionary"
   ]
  },
  {
   "cell_type": "code",
   "execution_count": 4,
   "id": "e8135fc5",
   "metadata": {},
   "outputs": [
    {
     "name": "stdout",
     "output_type": "stream",
     "text": [
      "jen: \n",
      "- python\n",
      "- ruby\n",
      "sarah: \n",
      "- c\n",
      "edward: \n",
      "- ruby\n",
      "- go\n",
      "phil: \n",
      "- python\n",
      "- haskell\n"
     ]
    }
   ],
   "source": [
    "fav_languages = {\n",
    "    'jen': ['python', 'ruby'],\n",
    "    'sarah': ['c'],\n",
    "    'edward': ['ruby', 'go'],\n",
    "    'phil': ['python', 'haskell'],\n",
    "}\n",
    "\n",
    "#show all response for each person\n",
    "for name, langs in fav_languages.items():\n",
    "    print(name + ': ')\n",
    "    for lang in langs:\n",
    "        print ('- ' + lang)"
   ]
  },
  {
   "cell_type": "markdown",
   "id": "b177a365",
   "metadata": {},
   "source": [
    "### A dictionary of Dictionaries"
   ]
  },
  {
   "cell_type": "code",
   "execution_count": 7,
   "id": "0a0b192c",
   "metadata": {},
   "outputs": [
    {
     "name": "stdout",
     "output_type": "stream",
     "text": [
      "aeinstein princeton\n",
      "mcurie paris\n"
     ]
    }
   ],
   "source": [
    "users = {\n",
    " 'aeinstein': {\n",
    " 'first': 'albert',\n",
    " 'last': 'einstein',\n",
    " 'location': 'princeton',\n",
    " },\n",
    " 'mcurie': {\n",
    " 'first': 'marie',\n",
    " 'last': 'curie',\n",
    " 'location': 'paris',\n",
    " },\n",
    " }\n",
    "\n",
    "for username, user in users.items():\n",
    "    print(username, user['location'])"
   ]
  }
 ],
 "metadata": {
  "kernelspec": {
   "display_name": "hit140env",
   "language": "python",
   "name": "python3"
  },
  "language_info": {
   "codemirror_mode": {
    "name": "ipython",
    "version": 3
   },
   "file_extension": ".py",
   "mimetype": "text/x-python",
   "name": "python",
   "nbconvert_exporter": "python",
   "pygments_lexer": "ipython3",
   "version": "3.13.5"
  }
 },
 "nbformat": 4,
 "nbformat_minor": 5
}
