{
 "cells": [
  {
   "cell_type": "markdown",
   "id": "14e50eeb",
   "metadata": {},
   "source": [
    "# Object Oriented Programming\n",
    "It is a way of structureing code where we group data and behaviour together into units called objects."
   ]
  },
  {
   "cell_type": "markdown",
   "id": "f9c2c06f",
   "metadata": {},
   "source": [
    "### Car game"
   ]
  },
  {
   "cell_type": "code",
   "execution_count": null,
   "id": "1826ccb6",
   "metadata": {},
   "outputs": [],
   "source": [
    "class Car:\n",
    "    def __init__(self, size, life, fuel, speed):\n",
    "        self.size = size\n",
    "        self.life = life\n",
    "        self.fuel = fuel \n",
    "        self.speed = speed\n",
    "    \n",
    "    def take_damage(self, amount):\n",
    "        self.life -= amount\n",
    "        \n",
    "    \n",
    "    def consume_fuel(self, amount):\n",
    "        self.fuel -= amount\n",
    "    \n",
    "    def move(self):\n",
    "        print(f'The car is moving at {self.speed} km/h')"
   ]
  },
  {
   "cell_type": "markdown",
   "id": "f5af6d09",
   "metadata": {},
   "source": [
    "Note: \"__init__\" is a constructor that runs when we creat an object.\n",
    "      Self refers to this particular object ."
   ]
  },
  {
   "cell_type": "markdown",
   "id": "5b788978",
   "metadata": {},
   "source": [
    "#### Creatin an object from the Car Class"
   ]
  },
  {
   "cell_type": "code",
   "execution_count": 7,
   "id": "e2167ff1",
   "metadata": {},
   "outputs": [
    {
     "name": "stdout",
     "output_type": "stream",
     "text": [
      "Large\n",
      "100\n",
      "The car is moving at 120 km/h\n",
      "80\n"
     ]
    }
   ],
   "source": [
    "\n",
    "my_car = Car(size='Large', life=100, fuel=50, speed=120)\n",
    "print(my_car.size)\n",
    "print(my_car.life)\n",
    "\n",
    "# Calling Methods\n",
    "my_car.move()\n",
    "my_car.take_damage(20)\n",
    "print(my_car.life)"
   ]
  },
  {
   "cell_type": "markdown",
   "id": "b892ee2a",
   "metadata": {},
   "source": [
    "### Encapsulation\n",
    "It is bascially controlling access to an object's data"
   ]
  },
  {
   "cell_type": "markdown",
   "id": "db183659",
   "metadata": {},
   "source": [
    "#### Public Attribute\n"
   ]
  },
  {
   "cell_type": "code",
   "execution_count": 8,
   "id": "c67daa36",
   "metadata": {},
   "outputs": [
    {
     "name": "stdout",
     "output_type": "stream",
     "text": [
      "100\n"
     ]
    }
   ],
   "source": [
    "class Bus:\n",
    "    def __init__(self):\n",
    "        self.speed = 100\n",
    "\n",
    "\n",
    "my_bus = Bus()\n",
    "print (my_bus.speed)\n"
   ]
  },
  {
   "cell_type": "markdown",
   "id": "11b0269f",
   "metadata": {},
   "source": [
    "#### Protected Attributes (_Single_underscore)"
   ]
  },
  {
   "cell_type": "code",
   "execution_count": null,
   "id": "dfb0079c",
   "metadata": {},
   "outputs": [
    {
     "name": "stdout",
     "output_type": "stream",
     "text": [
      "50\n",
      "100\n"
     ]
    }
   ],
   "source": [
    "class Truck:\n",
    "    def __init__(self):\n",
    "        self._fuel = 50     #protected\n",
    "    \n",
    "\n",
    "my_truck = Truck()\n",
    "print(my_truck._fuel)   # Works, but avoid changing directly\n"
   ]
  },
  {
   "cell_type": "markdown",
   "id": "d2f2a377",
   "metadata": {},
   "source": [
    "#### Private Attributes"
   ]
  },
  {
   "cell_type": "code",
   "execution_count": 12,
   "id": "94012789",
   "metadata": {},
   "outputs": [
    {
     "name": "stdout",
     "output_type": "stream",
     "text": [
      "100\n"
     ]
    }
   ],
   "source": [
    "class Jeep:\n",
    "    def __init__(self):\n",
    "        self.__life = 100 #private\n",
    "    \n",
    "    def get_life(self): \n",
    "        return self.__life\n",
    "    \n",
    "    def take_damage(self, amount):\n",
    "        self.__life -= amount\n",
    "\n",
    "my_jeep = Jeep()\n",
    "print(my_jeep.get_life())"
   ]
  }
 ],
 "metadata": {
  "kernelspec": {
   "display_name": "hit140env",
   "language": "python",
   "name": "python3"
  },
  "language_info": {
   "codemirror_mode": {
    "name": "ipython",
    "version": 3
   },
   "file_extension": ".py",
   "mimetype": "text/x-python",
   "name": "python",
   "nbconvert_exporter": "python",
   "pygments_lexer": "ipython3",
   "version": "3.13.5"
  }
 },
 "nbformat": 4,
 "nbformat_minor": 5
}
