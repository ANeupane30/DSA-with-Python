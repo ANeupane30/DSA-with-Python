{
 "cells": [
  {
   "cell_type": "markdown",
   "id": "267491c0",
   "metadata": {},
   "source": [
    "# Dictionaries\n",
    "\n",
    "Data are stored in key-value pair. We can loop through all the key-value paris, all the keys or all the values"
   ]
  },
  {
   "cell_type": "code",
   "execution_count": 21,
   "id": "242d3439",
   "metadata": {},
   "outputs": [
    {
     "name": "stdout",
     "output_type": "stream",
     "text": [
      "green\n",
      "green\n",
      "5\n",
      "2\n"
     ]
    }
   ],
   "source": [
    "alien = {'color': 'green', 'points' : 5 }\n",
    "print(alien['color']) #accessing value associated with key\n",
    "\n",
    "alien_color = alien.get(\"color\") # getting value using get()\n",
    "print(alien_color)\n",
    "\n",
    "alien_point = alien.get('points', 0) # 0 is the deafult value, if key is not defined it returns 0\n",
    "print(alien_point)\n",
    "\n",
    "# length of dictionary\n",
    "print(len(alien))\n"
   ]
  },
  {
   "cell_type": "markdown",
   "id": "f36d39ff",
   "metadata": {},
   "source": [
    "### Modifying Dictionaries"
   ]
  },
  {
   "cell_type": "code",
   "execution_count": null,
   "id": "3d676128",
   "metadata": {},
   "outputs": [
    {
     "name": "stdout",
     "output_type": "stream",
     "text": [
      "{'color': 'red'}\n",
      "2\n"
     ]
    }
   ],
   "source": [
    "new_dict = {'color': 'green'}\n",
    "\n",
    "new_dict['speed'] = 2 # adding new key-value pair\n",
    "new_dict['color'] = 'red' # if the key already exits, this will update its value.\n",
    "\n",
    "del new_dict['speed'] #deleting key-value pair\n",
    "print(new_dict)\n"
   ]
  },
  {
   "cell_type": "markdown",
   "id": "d9e21a43",
   "metadata": {},
   "source": [
    "### Looping through a Dictionary"
   ]
  },
  {
   "cell_type": "code",
   "execution_count": null,
   "id": "f1c145cd",
   "metadata": {},
   "outputs": [
    {
     "name": "stdout",
     "output_type": "stream",
     "text": [
      "Aseem: Python\n",
      "Amrit: React\n",
      "Prabesh: Java\n",
      " \n",
      "Aseem\n",
      "Amrit\n",
      "Prabesh\n",
      " \n",
      "Python\n",
      "React\n",
      "Java\n"
     ]
    }
   ],
   "source": [
    "fav_language = {\n",
    "    'Aseem': 'Python',\n",
    "    'Amrit': 'React',\n",
    "    'Prabesh': 'Java'\n",
    "}\n",
    "\n",
    "# looping through above key value pair\n",
    "for name, lan in fav_language.items():\n",
    "    print(name + \": \" + lan)\n",
    "\n",
    "print(' ')\n",
    "# looping through keys only\n",
    "for n in fav_language.keys():\n",
    "    print(n)\n",
    "\n",
    "print(' ')\n",
    "# looping through values only\n",
    "for v in fav_language.values():\n",
    "    print(v)\n",
    "\n",
    "\n"
   ]
  }
 ],
 "metadata": {
  "kernelspec": {
   "display_name": "hit140env",
   "language": "python",
   "name": "python3"
  },
  "language_info": {
   "codemirror_mode": {
    "name": "ipython",
    "version": 3
   },
   "file_extension": ".py",
   "mimetype": "text/x-python",
   "name": "python",
   "nbconvert_exporter": "python",
   "pygments_lexer": "ipython3",
   "version": "3.13.5"
  }
 },
 "nbformat": 4,
 "nbformat_minor": 5
}
