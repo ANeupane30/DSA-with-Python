{
 "cells": [
  {
   "cell_type": "markdown",
   "id": "91a6befe",
   "metadata": {},
   "source": [
    "# Function\n",
    "Named block of code designed to do one specific job"
   ]
  },
  {
   "cell_type": "markdown",
   "id": "476c8841",
   "metadata": {},
   "source": [
    "### Making a function"
   ]
  },
  {
   "cell_type": "code",
   "execution_count": 2,
   "id": "38cc3d73",
   "metadata": {},
   "outputs": [
    {
     "name": "stdout",
     "output_type": "stream",
     "text": [
      "Hello!\n"
     ]
    }
   ],
   "source": [
    "def greet_user():\n",
    "    print('Hello!')\n",
    "\n",
    "greet_user()"
   ]
  },
  {
   "cell_type": "markdown",
   "id": "78f02789",
   "metadata": {},
   "source": [
    "### Passing information to a function\n"
   ]
  },
  {
   "cell_type": "code",
   "execution_count": 3,
   "id": "0f1faba1",
   "metadata": {},
   "outputs": [
    {
     "name": "stdout",
     "output_type": "stream",
     "text": [
      "Hello! Aseem\n"
     ]
    }
   ],
   "source": [
    "def pInfo(username):\n",
    "    print (\"Hello! \" + username)\n",
    "\n",
    "pInfo('Aseem')"
   ]
  },
  {
   "cell_type": "markdown",
   "id": "e1796af3",
   "metadata": {},
   "source": [
    "### Return Value\n"
   ]
  },
  {
   "cell_type": "code",
   "execution_count": 10,
   "id": "4c197195",
   "metadata": {},
   "outputs": [
    {
     "data": {
      "text/plain": [
       "'Aseem Neupane'"
      ]
     },
     "execution_count": 10,
     "metadata": {},
     "output_type": "execute_result"
    }
   ],
   "source": [
    "def ret(firstName, lastName):\n",
    "    fullName = firstName + \" \" + lastName\n",
    "    return fullName\n",
    "\n",
    "ret('Aseem', 'Neupane')"
   ]
  },
  {
   "cell_type": "markdown",
   "id": "41aac3f1",
   "metadata": {},
   "source": [
    "### Returning a dictionay with optional values"
   ]
  },
  {
   "cell_type": "code",
   "execution_count": 13,
   "id": "86461290",
   "metadata": {},
   "outputs": [
    {
     "name": "stdout",
     "output_type": "stream",
     "text": [
      "{'first': 'jimi', 'last': 'hendrix', 'age': 27}\n",
      "{'first': 'janis', 'last': 'joplin'}\n"
     ]
    }
   ],
   "source": [
    "def build_person(first, last, age=None):\n",
    " \"\"\"Return a dictionary of information\n",
    " about a person.\n",
    " \"\"\"\n",
    " person = {'first': first, 'last': last}\n",
    " if age:\n",
    "     person['age'] = age\n",
    " return person\n",
    "musician = build_person('jimi', 'hendrix', 27)\n",
    "print(musician)\n",
    "musician = build_person('janis', 'joplin')\n",
    "print(musician)"
   ]
  }
 ],
 "metadata": {
  "kernelspec": {
   "display_name": "hit140env",
   "language": "python",
   "name": "python3"
  },
  "language_info": {
   "codemirror_mode": {
    "name": "ipython",
    "version": 3
   },
   "file_extension": ".py",
   "mimetype": "text/x-python",
   "name": "python",
   "nbconvert_exporter": "python",
   "pygments_lexer": "ipython3",
   "version": "3.13.5"
  }
 },
 "nbformat": 4,
 "nbformat_minor": 5
}
